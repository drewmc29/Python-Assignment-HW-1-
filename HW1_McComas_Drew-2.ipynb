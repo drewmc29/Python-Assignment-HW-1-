{
  "nbformat": 4,
  "nbformat_minor": 0,
  "metadata": {
    "colab": {
      "name": "HW1_McComas_Drew.ipynb",
      "provenance": [],
      "collapsed_sections": []
    },
    "kernelspec": {
      "name": "python3",
      "display_name": "Python 3"
    }
  },
  "cells": [
    {
      "cell_type": "markdown",
      "metadata": {
        "id": "hm8RAKinXsIP"
      },
      "source": [
        "## **Homework 1**\n",
        "\n",
        "### Create a copy of the notebook to start answering the questions. Name your notebook in the format HW1_lastname_firstname.ipynb to facilitate the grading process. \n",
        "\n",
        "### Answer all the questions, test your code to ensure there are no errors and the results are as expected. Once you have answered all the questions, save the final copy, then go to File-> click on Download.ipynb. Once the local copy has been downloaded, submit your file on Blackboard under the corresponding assignment section. Also provide us a link to your notebook during submission. \n",
        "\n",
        "### **The due date of this homework is 02/05/2021 (Friday).**\n",
        "\n",
        "### Please ensure you follow all the steps mentioned in the homework.\n",
        "\n",
        "### All the questions have a sample input and output to help you understand the question. Please note that your programs will be tested for other sets of inputs and outputs along with the sample provided. So test your code for other inputs.\n",
        "\n",
        "### You can submit your solutions any number of times until the deadline.\n"
      ]
    },
    {
      "cell_type": "markdown",
      "metadata": {
        "id": "uacFrEaZfcfq"
      },
      "source": [
        "##### Q1. Write a program that prompts the user to enter a password then prints the length of the password.\n",
        "\n",
        "```\n",
        "Enter your password: hello\n",
        "Your password is 5 long.\n",
        "```\n",
        "\n",
        "\n"
      ]
    },
    {
      "cell_type": "code",
      "metadata": {
        "id": "avPyES14ftCt",
        "colab": {
          "base_uri": "https://localhost:8080/"
        },
        "outputId": "1998ba4b-b501-4ff1-cadf-35823845ba1e"
      },
      "source": [
        "# Type solution here\n",
        "password = input(\"Enter your password:\" )\n",
        "print(\"Your password is\", len(password) ,\"characters long\")"
      ],
      "execution_count": null,
      "outputs": [
        {
          "output_type": "stream",
          "text": [
            "Enter your password:pooop\n",
            "Your password is 5 characters long\n"
          ],
          "name": "stdout"
        }
      ]
    },
    {
      "cell_type": "markdown",
      "metadata": {
        "id": "ekh-kABuItli"
      },
      "source": [
        ""
      ]
    },
    {
      "cell_type": "markdown",
      "metadata": {
        "id": "K1yko-xUItU3"
      },
      "source": [
        ""
      ]
    },
    {
      "cell_type": "markdown",
      "metadata": {
        "id": "behD0j_Of2TW"
      },
      "source": [
        "##### Q2. Write a program that prompts the user to enter their full name then prints the number of characters in their name (do not count spaces).\n",
        "\n",
        "```\n",
        "What is your name? Amulya Katti\n",
        "Amulya Katti your name has 11 characters.\n",
        "```"
      ]
    },
    {
      "cell_type": "code",
      "metadata": {
        "id": "XSdIRjwlhSlu",
        "colab": {
          "base_uri": "https://localhost:8080/"
        },
        "outputId": "600ab292-b84a-4be1-ec04-71c8ce14d898"
      },
      "source": [
        "# Type solution here\n",
        "name = input(\"What is your name? \")\n",
        "print(name, \", your name has \", len(name) - name.count(\" \"), \"characters.\")"
      ],
      "execution_count": null,
      "outputs": [
        {
          "output_type": "stream",
          "text": [
            "What is your name? Drew Mc\n",
            "Drew Mc , your name has  6 characters.\n"
          ],
          "name": "stdout"
        }
      ]
    },
    {
      "cell_type": "markdown",
      "metadata": {
        "id": "5KHOWF6FhVHV"
      },
      "source": [
        "##### Q3. Write a program that prompts the user to enter a month (as a number), then prints the name of the month and the number of days in that month. Ensure that the user inputs a valid month and handle any error cases.\n",
        "\n",
        "```\n",
        "Enter the month number: 9\n",
        "September has 30 days\n",
        "```"
      ]
    },
    {
      "cell_type": "code",
      "metadata": {
        "id": "KhS-SAEThyTG",
        "colab": {
          "base_uri": "https://localhost:8080/"
        },
        "outputId": "c33143a2-3200-4bc9-8aa8-66e25a8a2d09"
      },
      "source": [
        "# Type solution here\n",
        "monthnum = input(\"Enter a month (as a number):\")\n",
        "\n",
        "if monthnum == \"1\":\n",
        "  print(\"January has 31 days\")\n",
        "elif monthnum == \"2\":\n",
        "  print(\"February has 28/29 days\")\n",
        "elif monthnum == \"3\":\n",
        "  print(\"March has 31 days\")\n",
        "elif monthnum == \"4\":\n",
        "  print(\"April has 30 days\")\n",
        "elif monthnum == \"5\":\n",
        "  print(\"May has 31 days\")\n",
        "elif monthnum == \"6\":\n",
        "  print(\"June has 30 days\")\n",
        "elif monthnum == \"7\":\n",
        "  print(\"July has 31 days\")\n",
        "elif monthnum == \"8\":\n",
        "  print(\"August has 31 days\")\n",
        "elif monthnum == \"9\":\n",
        "  print(\"September has 30 days\")\n",
        "elif monthnum == \"10\":\n",
        "  print(\"October has 31 days\")\n",
        "elif monthnum == \"11\":\n",
        "  print(\"November has 30 days\")\n",
        "elif monthnum == \"12\":\n",
        "  print(\"December has 31 days\")\n",
        "else:\n",
        "  print(\"Invalid number, please try again.\")\n"
      ],
      "execution_count": null,
      "outputs": [
        {
          "output_type": "stream",
          "text": [
            "Enter a month (as a number):4\n",
            "April has 30 days\n"
          ],
          "name": "stdout"
        }
      ]
    },
    {
      "cell_type": "markdown",
      "metadata": {
        "id": "O7lnAdGlh6Xa"
      },
      "source": [
        "##### Q4. Write a program that prompts the user to enter a loan amount, annual interest rate, and number of years  for a car loan. Then calculate and print the monthly payment amount.\n",
        "\n",
        "Note:\n",
        "```\n",
        "PMT= [PV*i*((1+i)^n)]/[((1+i)^n)-1]\n",
        "```\n",
        "PMT is the monthly payment\n",
        "\n",
        "PV is the loan amount\n",
        "\n",
        "i is the interest rate per month in decimal form (interest rate percentage divided by 12)\n",
        "\n",
        "n is the number of months (term of the loan in months)\n",
        "\n",
        "```\n",
        "Loan Amount: 30000.00\n",
        "Annual Interest Rate: 4.00\n",
        "Years: 5\n",
        "Your monthly payment is: $552.50\n",
        "```"
      ]
    },
    {
      "cell_type": "code",
      "metadata": {
        "id": "p4B5JH5GiTs9",
        "colab": {
          "base_uri": "https://localhost:8080/"
        },
        "outputId": "129e9808-40ef-4409-ca05-5a22570bcf67"
      },
      "source": [
        "# Type solution here\n",
        "\n",
        "\n",
        "  \n",
        "principal = float(input(\"Loan Amount: \")) \n",
        "interestRate = float(input(\"Annual Interest Rate: \"))\n",
        "years = int(input(\"Years: \")) \n",
        " \n",
        "  \n",
        "  \n",
        "n = years*12 \n",
        "i = interestRate/(100*12)\n",
        "pmt = principal*i*((i+1)**n)/(((i+1)**n)-1) \n",
        "\n",
        "dec = \"{:.2f}\".format(pmt)\n",
        "\n",
        "\n",
        "print(\"Your monthly payment is: $\", float(dec)) \n"
      ],
      "execution_count": null,
      "outputs": [
        {
          "output_type": "stream",
          "text": [
            "Loan Amount: 30000\n",
            "Annual Interest Rate: 4\n",
            "Years: 5\n",
            "Your monthly payment is: $ 552.5\n"
          ],
          "name": "stdout"
        }
      ]
    },
    {
      "cell_type": "markdown",
      "metadata": {
        "id": "SjiolJKgiWV-"
      },
      "source": [
        "##### Q5. Write a program to that prompts the user to enter a string. Then check whether or not the string is a palindrome.\n",
        "\n",
        "```\n",
        "Enter a string: Madam\n",
        "Madam, is a palindrome!\n",
        "```"
      ]
    },
    {
      "cell_type": "code",
      "metadata": {
        "id": "F5_M934Ri0es",
        "colab": {
          "base_uri": "https://localhost:8080/"
        },
        "outputId": "1ae4eba4-ad99-446b-e0af-bd3248753981"
      },
      "source": [
        "# Type solution here\n",
        "\n",
        "pal = input(\"Enter a word:\")\n",
        "\n",
        "reverse = reversed(pal)\n",
        "\n",
        "if list(pal) == list(reverse):\n",
        "   print(\"The string is a palindrome.\")\n",
        "else:\n",
        "   print(\"The string is not a palindrome.\")"
      ],
      "execution_count": null,
      "outputs": [
        {
          "output_type": "stream",
          "text": [
            "Enter a word:racecar\n",
            "The string is a palindrome.\n"
          ],
          "name": "stdout"
        }
      ]
    },
    {
      "cell_type": "markdown",
      "metadata": {
        "id": "BLBD6n9vkJEu"
      },
      "source": [
        "##### Q6. Write a program to compute and print all possible combinations of change for \\$1. Denominations to be considered – quarter, dime, nickel, penny.\n",
        "\n",
        "Hint: Use nested loops (loops within loops for the various denominations of coins)\n",
        "\n",
        "```\n",
        "Change for $1:\n",
        "0 quarters, 0 dimes, 0 nickels, 100 pennies\n",
        "…\n",
        "4 quarters, 0 dimes, 0 nickels, 0 pennies\n",
        "```"
      ]
    },
    {
      "cell_type": "code",
      "metadata": {
        "id": "kAQsTjwDkZZ5",
        "colab": {
          "base_uri": "https://localhost:8080/"
        },
        "outputId": "4e206d15-8249-4d66-b4fa-ae1b3cd8f922"
      },
      "source": [
        "# Type solution here\n",
        "print(\"Below are all the possible combinations for ... \\n Change for $1 \")\n",
        "for quarter in range(0,5): \n",
        "  for dime in range(0,11): \n",
        "    for nickel in range(0,21): \n",
        "      for penny in range(0,101):\n",
        "        if(25 * quarter + 10 * dime + 5 * nickel + penny == 100): \n",
        "          print(quarter,\"quarters,\",dime,\"dimes,\",nickel,\"nickels,\",penny,\"pennies.\" )"
      ],
      "execution_count": null,
      "outputs": [
        {
          "output_type": "stream",
          "text": [
            "Below are all the possible combinations for ... \n",
            " Change for $1 \n",
            "0 quarters, 0 dimes, 0 nickels, 100 pennies.\n",
            "0 quarters, 0 dimes, 1 nickels, 95 pennies.\n",
            "0 quarters, 0 dimes, 2 nickels, 90 pennies.\n",
            "0 quarters, 0 dimes, 3 nickels, 85 pennies.\n",
            "0 quarters, 0 dimes, 4 nickels, 80 pennies.\n",
            "0 quarters, 0 dimes, 5 nickels, 75 pennies.\n",
            "0 quarters, 0 dimes, 6 nickels, 70 pennies.\n",
            "0 quarters, 0 dimes, 7 nickels, 65 pennies.\n",
            "0 quarters, 0 dimes, 8 nickels, 60 pennies.\n",
            "0 quarters, 0 dimes, 9 nickels, 55 pennies.\n",
            "0 quarters, 0 dimes, 10 nickels, 50 pennies.\n",
            "0 quarters, 0 dimes, 11 nickels, 45 pennies.\n",
            "0 quarters, 0 dimes, 12 nickels, 40 pennies.\n",
            "0 quarters, 0 dimes, 13 nickels, 35 pennies.\n",
            "0 quarters, 0 dimes, 14 nickels, 30 pennies.\n",
            "0 quarters, 0 dimes, 15 nickels, 25 pennies.\n",
            "0 quarters, 0 dimes, 16 nickels, 20 pennies.\n",
            "0 quarters, 0 dimes, 17 nickels, 15 pennies.\n",
            "0 quarters, 0 dimes, 18 nickels, 10 pennies.\n",
            "0 quarters, 0 dimes, 19 nickels, 5 pennies.\n",
            "0 quarters, 0 dimes, 20 nickels, 0 pennies.\n",
            "0 quarters, 1 dimes, 0 nickels, 90 pennies.\n",
            "0 quarters, 1 dimes, 1 nickels, 85 pennies.\n",
            "0 quarters, 1 dimes, 2 nickels, 80 pennies.\n",
            "0 quarters, 1 dimes, 3 nickels, 75 pennies.\n",
            "0 quarters, 1 dimes, 4 nickels, 70 pennies.\n",
            "0 quarters, 1 dimes, 5 nickels, 65 pennies.\n",
            "0 quarters, 1 dimes, 6 nickels, 60 pennies.\n",
            "0 quarters, 1 dimes, 7 nickels, 55 pennies.\n",
            "0 quarters, 1 dimes, 8 nickels, 50 pennies.\n",
            "0 quarters, 1 dimes, 9 nickels, 45 pennies.\n",
            "0 quarters, 1 dimes, 10 nickels, 40 pennies.\n",
            "0 quarters, 1 dimes, 11 nickels, 35 pennies.\n",
            "0 quarters, 1 dimes, 12 nickels, 30 pennies.\n",
            "0 quarters, 1 dimes, 13 nickels, 25 pennies.\n",
            "0 quarters, 1 dimes, 14 nickels, 20 pennies.\n",
            "0 quarters, 1 dimes, 15 nickels, 15 pennies.\n",
            "0 quarters, 1 dimes, 16 nickels, 10 pennies.\n",
            "0 quarters, 1 dimes, 17 nickels, 5 pennies.\n",
            "0 quarters, 1 dimes, 18 nickels, 0 pennies.\n",
            "0 quarters, 2 dimes, 0 nickels, 80 pennies.\n",
            "0 quarters, 2 dimes, 1 nickels, 75 pennies.\n",
            "0 quarters, 2 dimes, 2 nickels, 70 pennies.\n",
            "0 quarters, 2 dimes, 3 nickels, 65 pennies.\n",
            "0 quarters, 2 dimes, 4 nickels, 60 pennies.\n",
            "0 quarters, 2 dimes, 5 nickels, 55 pennies.\n",
            "0 quarters, 2 dimes, 6 nickels, 50 pennies.\n",
            "0 quarters, 2 dimes, 7 nickels, 45 pennies.\n",
            "0 quarters, 2 dimes, 8 nickels, 40 pennies.\n",
            "0 quarters, 2 dimes, 9 nickels, 35 pennies.\n",
            "0 quarters, 2 dimes, 10 nickels, 30 pennies.\n",
            "0 quarters, 2 dimes, 11 nickels, 25 pennies.\n",
            "0 quarters, 2 dimes, 12 nickels, 20 pennies.\n",
            "0 quarters, 2 dimes, 13 nickels, 15 pennies.\n",
            "0 quarters, 2 dimes, 14 nickels, 10 pennies.\n",
            "0 quarters, 2 dimes, 15 nickels, 5 pennies.\n",
            "0 quarters, 2 dimes, 16 nickels, 0 pennies.\n",
            "0 quarters, 3 dimes, 0 nickels, 70 pennies.\n",
            "0 quarters, 3 dimes, 1 nickels, 65 pennies.\n",
            "0 quarters, 3 dimes, 2 nickels, 60 pennies.\n",
            "0 quarters, 3 dimes, 3 nickels, 55 pennies.\n",
            "0 quarters, 3 dimes, 4 nickels, 50 pennies.\n",
            "0 quarters, 3 dimes, 5 nickels, 45 pennies.\n",
            "0 quarters, 3 dimes, 6 nickels, 40 pennies.\n",
            "0 quarters, 3 dimes, 7 nickels, 35 pennies.\n",
            "0 quarters, 3 dimes, 8 nickels, 30 pennies.\n",
            "0 quarters, 3 dimes, 9 nickels, 25 pennies.\n",
            "0 quarters, 3 dimes, 10 nickels, 20 pennies.\n",
            "0 quarters, 3 dimes, 11 nickels, 15 pennies.\n",
            "0 quarters, 3 dimes, 12 nickels, 10 pennies.\n",
            "0 quarters, 3 dimes, 13 nickels, 5 pennies.\n",
            "0 quarters, 3 dimes, 14 nickels, 0 pennies.\n",
            "0 quarters, 4 dimes, 0 nickels, 60 pennies.\n",
            "0 quarters, 4 dimes, 1 nickels, 55 pennies.\n",
            "0 quarters, 4 dimes, 2 nickels, 50 pennies.\n",
            "0 quarters, 4 dimes, 3 nickels, 45 pennies.\n",
            "0 quarters, 4 dimes, 4 nickels, 40 pennies.\n",
            "0 quarters, 4 dimes, 5 nickels, 35 pennies.\n",
            "0 quarters, 4 dimes, 6 nickels, 30 pennies.\n",
            "0 quarters, 4 dimes, 7 nickels, 25 pennies.\n",
            "0 quarters, 4 dimes, 8 nickels, 20 pennies.\n",
            "0 quarters, 4 dimes, 9 nickels, 15 pennies.\n",
            "0 quarters, 4 dimes, 10 nickels, 10 pennies.\n",
            "0 quarters, 4 dimes, 11 nickels, 5 pennies.\n",
            "0 quarters, 4 dimes, 12 nickels, 0 pennies.\n",
            "0 quarters, 5 dimes, 0 nickels, 50 pennies.\n",
            "0 quarters, 5 dimes, 1 nickels, 45 pennies.\n",
            "0 quarters, 5 dimes, 2 nickels, 40 pennies.\n",
            "0 quarters, 5 dimes, 3 nickels, 35 pennies.\n",
            "0 quarters, 5 dimes, 4 nickels, 30 pennies.\n",
            "0 quarters, 5 dimes, 5 nickels, 25 pennies.\n",
            "0 quarters, 5 dimes, 6 nickels, 20 pennies.\n",
            "0 quarters, 5 dimes, 7 nickels, 15 pennies.\n",
            "0 quarters, 5 dimes, 8 nickels, 10 pennies.\n",
            "0 quarters, 5 dimes, 9 nickels, 5 pennies.\n",
            "0 quarters, 5 dimes, 10 nickels, 0 pennies.\n",
            "0 quarters, 6 dimes, 0 nickels, 40 pennies.\n",
            "0 quarters, 6 dimes, 1 nickels, 35 pennies.\n",
            "0 quarters, 6 dimes, 2 nickels, 30 pennies.\n",
            "0 quarters, 6 dimes, 3 nickels, 25 pennies.\n",
            "0 quarters, 6 dimes, 4 nickels, 20 pennies.\n",
            "0 quarters, 6 dimes, 5 nickels, 15 pennies.\n",
            "0 quarters, 6 dimes, 6 nickels, 10 pennies.\n",
            "0 quarters, 6 dimes, 7 nickels, 5 pennies.\n",
            "0 quarters, 6 dimes, 8 nickels, 0 pennies.\n",
            "0 quarters, 7 dimes, 0 nickels, 30 pennies.\n",
            "0 quarters, 7 dimes, 1 nickels, 25 pennies.\n",
            "0 quarters, 7 dimes, 2 nickels, 20 pennies.\n",
            "0 quarters, 7 dimes, 3 nickels, 15 pennies.\n",
            "0 quarters, 7 dimes, 4 nickels, 10 pennies.\n",
            "0 quarters, 7 dimes, 5 nickels, 5 pennies.\n",
            "0 quarters, 7 dimes, 6 nickels, 0 pennies.\n",
            "0 quarters, 8 dimes, 0 nickels, 20 pennies.\n",
            "0 quarters, 8 dimes, 1 nickels, 15 pennies.\n",
            "0 quarters, 8 dimes, 2 nickels, 10 pennies.\n",
            "0 quarters, 8 dimes, 3 nickels, 5 pennies.\n",
            "0 quarters, 8 dimes, 4 nickels, 0 pennies.\n",
            "0 quarters, 9 dimes, 0 nickels, 10 pennies.\n",
            "0 quarters, 9 dimes, 1 nickels, 5 pennies.\n",
            "0 quarters, 9 dimes, 2 nickels, 0 pennies.\n",
            "0 quarters, 10 dimes, 0 nickels, 0 pennies.\n",
            "1 quarters, 0 dimes, 0 nickels, 75 pennies.\n",
            "1 quarters, 0 dimes, 1 nickels, 70 pennies.\n",
            "1 quarters, 0 dimes, 2 nickels, 65 pennies.\n",
            "1 quarters, 0 dimes, 3 nickels, 60 pennies.\n",
            "1 quarters, 0 dimes, 4 nickels, 55 pennies.\n",
            "1 quarters, 0 dimes, 5 nickels, 50 pennies.\n",
            "1 quarters, 0 dimes, 6 nickels, 45 pennies.\n",
            "1 quarters, 0 dimes, 7 nickels, 40 pennies.\n",
            "1 quarters, 0 dimes, 8 nickels, 35 pennies.\n",
            "1 quarters, 0 dimes, 9 nickels, 30 pennies.\n",
            "1 quarters, 0 dimes, 10 nickels, 25 pennies.\n",
            "1 quarters, 0 dimes, 11 nickels, 20 pennies.\n",
            "1 quarters, 0 dimes, 12 nickels, 15 pennies.\n",
            "1 quarters, 0 dimes, 13 nickels, 10 pennies.\n",
            "1 quarters, 0 dimes, 14 nickels, 5 pennies.\n",
            "1 quarters, 0 dimes, 15 nickels, 0 pennies.\n",
            "1 quarters, 1 dimes, 0 nickels, 65 pennies.\n",
            "1 quarters, 1 dimes, 1 nickels, 60 pennies.\n",
            "1 quarters, 1 dimes, 2 nickels, 55 pennies.\n",
            "1 quarters, 1 dimes, 3 nickels, 50 pennies.\n",
            "1 quarters, 1 dimes, 4 nickels, 45 pennies.\n",
            "1 quarters, 1 dimes, 5 nickels, 40 pennies.\n",
            "1 quarters, 1 dimes, 6 nickels, 35 pennies.\n",
            "1 quarters, 1 dimes, 7 nickels, 30 pennies.\n",
            "1 quarters, 1 dimes, 8 nickels, 25 pennies.\n",
            "1 quarters, 1 dimes, 9 nickels, 20 pennies.\n",
            "1 quarters, 1 dimes, 10 nickels, 15 pennies.\n",
            "1 quarters, 1 dimes, 11 nickels, 10 pennies.\n",
            "1 quarters, 1 dimes, 12 nickels, 5 pennies.\n",
            "1 quarters, 1 dimes, 13 nickels, 0 pennies.\n",
            "1 quarters, 2 dimes, 0 nickels, 55 pennies.\n",
            "1 quarters, 2 dimes, 1 nickels, 50 pennies.\n",
            "1 quarters, 2 dimes, 2 nickels, 45 pennies.\n",
            "1 quarters, 2 dimes, 3 nickels, 40 pennies.\n",
            "1 quarters, 2 dimes, 4 nickels, 35 pennies.\n",
            "1 quarters, 2 dimes, 5 nickels, 30 pennies.\n",
            "1 quarters, 2 dimes, 6 nickels, 25 pennies.\n",
            "1 quarters, 2 dimes, 7 nickels, 20 pennies.\n",
            "1 quarters, 2 dimes, 8 nickels, 15 pennies.\n",
            "1 quarters, 2 dimes, 9 nickels, 10 pennies.\n",
            "1 quarters, 2 dimes, 10 nickels, 5 pennies.\n",
            "1 quarters, 2 dimes, 11 nickels, 0 pennies.\n",
            "1 quarters, 3 dimes, 0 nickels, 45 pennies.\n",
            "1 quarters, 3 dimes, 1 nickels, 40 pennies.\n",
            "1 quarters, 3 dimes, 2 nickels, 35 pennies.\n",
            "1 quarters, 3 dimes, 3 nickels, 30 pennies.\n",
            "1 quarters, 3 dimes, 4 nickels, 25 pennies.\n",
            "1 quarters, 3 dimes, 5 nickels, 20 pennies.\n",
            "1 quarters, 3 dimes, 6 nickels, 15 pennies.\n",
            "1 quarters, 3 dimes, 7 nickels, 10 pennies.\n",
            "1 quarters, 3 dimes, 8 nickels, 5 pennies.\n",
            "1 quarters, 3 dimes, 9 nickels, 0 pennies.\n",
            "1 quarters, 4 dimes, 0 nickels, 35 pennies.\n",
            "1 quarters, 4 dimes, 1 nickels, 30 pennies.\n",
            "1 quarters, 4 dimes, 2 nickels, 25 pennies.\n",
            "1 quarters, 4 dimes, 3 nickels, 20 pennies.\n",
            "1 quarters, 4 dimes, 4 nickels, 15 pennies.\n",
            "1 quarters, 4 dimes, 5 nickels, 10 pennies.\n",
            "1 quarters, 4 dimes, 6 nickels, 5 pennies.\n",
            "1 quarters, 4 dimes, 7 nickels, 0 pennies.\n",
            "1 quarters, 5 dimes, 0 nickels, 25 pennies.\n",
            "1 quarters, 5 dimes, 1 nickels, 20 pennies.\n",
            "1 quarters, 5 dimes, 2 nickels, 15 pennies.\n",
            "1 quarters, 5 dimes, 3 nickels, 10 pennies.\n",
            "1 quarters, 5 dimes, 4 nickels, 5 pennies.\n",
            "1 quarters, 5 dimes, 5 nickels, 0 pennies.\n",
            "1 quarters, 6 dimes, 0 nickels, 15 pennies.\n",
            "1 quarters, 6 dimes, 1 nickels, 10 pennies.\n",
            "1 quarters, 6 dimes, 2 nickels, 5 pennies.\n",
            "1 quarters, 6 dimes, 3 nickels, 0 pennies.\n",
            "1 quarters, 7 dimes, 0 nickels, 5 pennies.\n",
            "1 quarters, 7 dimes, 1 nickels, 0 pennies.\n",
            "2 quarters, 0 dimes, 0 nickels, 50 pennies.\n",
            "2 quarters, 0 dimes, 1 nickels, 45 pennies.\n",
            "2 quarters, 0 dimes, 2 nickels, 40 pennies.\n",
            "2 quarters, 0 dimes, 3 nickels, 35 pennies.\n",
            "2 quarters, 0 dimes, 4 nickels, 30 pennies.\n",
            "2 quarters, 0 dimes, 5 nickels, 25 pennies.\n",
            "2 quarters, 0 dimes, 6 nickels, 20 pennies.\n",
            "2 quarters, 0 dimes, 7 nickels, 15 pennies.\n",
            "2 quarters, 0 dimes, 8 nickels, 10 pennies.\n",
            "2 quarters, 0 dimes, 9 nickels, 5 pennies.\n",
            "2 quarters, 0 dimes, 10 nickels, 0 pennies.\n",
            "2 quarters, 1 dimes, 0 nickels, 40 pennies.\n",
            "2 quarters, 1 dimes, 1 nickels, 35 pennies.\n",
            "2 quarters, 1 dimes, 2 nickels, 30 pennies.\n",
            "2 quarters, 1 dimes, 3 nickels, 25 pennies.\n",
            "2 quarters, 1 dimes, 4 nickels, 20 pennies.\n",
            "2 quarters, 1 dimes, 5 nickels, 15 pennies.\n",
            "2 quarters, 1 dimes, 6 nickels, 10 pennies.\n",
            "2 quarters, 1 dimes, 7 nickels, 5 pennies.\n",
            "2 quarters, 1 dimes, 8 nickels, 0 pennies.\n",
            "2 quarters, 2 dimes, 0 nickels, 30 pennies.\n",
            "2 quarters, 2 dimes, 1 nickels, 25 pennies.\n",
            "2 quarters, 2 dimes, 2 nickels, 20 pennies.\n",
            "2 quarters, 2 dimes, 3 nickels, 15 pennies.\n",
            "2 quarters, 2 dimes, 4 nickels, 10 pennies.\n",
            "2 quarters, 2 dimes, 5 nickels, 5 pennies.\n",
            "2 quarters, 2 dimes, 6 nickels, 0 pennies.\n",
            "2 quarters, 3 dimes, 0 nickels, 20 pennies.\n",
            "2 quarters, 3 dimes, 1 nickels, 15 pennies.\n",
            "2 quarters, 3 dimes, 2 nickels, 10 pennies.\n",
            "2 quarters, 3 dimes, 3 nickels, 5 pennies.\n",
            "2 quarters, 3 dimes, 4 nickels, 0 pennies.\n",
            "2 quarters, 4 dimes, 0 nickels, 10 pennies.\n",
            "2 quarters, 4 dimes, 1 nickels, 5 pennies.\n",
            "2 quarters, 4 dimes, 2 nickels, 0 pennies.\n",
            "2 quarters, 5 dimes, 0 nickels, 0 pennies.\n",
            "3 quarters, 0 dimes, 0 nickels, 25 pennies.\n",
            "3 quarters, 0 dimes, 1 nickels, 20 pennies.\n",
            "3 quarters, 0 dimes, 2 nickels, 15 pennies.\n",
            "3 quarters, 0 dimes, 3 nickels, 10 pennies.\n",
            "3 quarters, 0 dimes, 4 nickels, 5 pennies.\n",
            "3 quarters, 0 dimes, 5 nickels, 0 pennies.\n",
            "3 quarters, 1 dimes, 0 nickels, 15 pennies.\n",
            "3 quarters, 1 dimes, 1 nickels, 10 pennies.\n",
            "3 quarters, 1 dimes, 2 nickels, 5 pennies.\n",
            "3 quarters, 1 dimes, 3 nickels, 0 pennies.\n",
            "3 quarters, 2 dimes, 0 nickels, 5 pennies.\n",
            "3 quarters, 2 dimes, 1 nickels, 0 pennies.\n",
            "4 quarters, 0 dimes, 0 nickels, 0 pennies.\n"
          ],
          "name": "stdout"
        }
      ]
    },
    {
      "cell_type": "markdown",
      "metadata": {
        "id": "rUPDjYiIkbgs"
      },
      "source": [
        "##### Q7. Ask the user to enter two positive integers between 1 and 100. Read those integers. Then output a multiplication table of the first number times the second number. \n",
        "\n",
        "Note: You have to ensure the entered numbers are between 1 and 100 only.\n",
        "\n",
        "```\n",
        "Please enter an integer: 5\n",
        "Please enter another integer: 20\n",
        "5 x 1 = 5\n",
        "5 x 2 = 10\n",
        "5 x 3 = 15\n",
        "…\n",
        "5 x 20 = 100\n",
        "```"
      ]
    },
    {
      "cell_type": "code",
      "metadata": {
        "id": "Qg0Orv1klHzA",
        "colab": {
          "base_uri": "https://localhost:8080/"
        },
        "outputId": "25da8513-2b08-40d6-f3de-968ffd072483"
      },
      "source": [
        "# Type solution here\n",
        "\n",
        "first = int(input(\"Please enter an integer : \"))\n",
        "second = int(input(\"Please enter another integer : \"))\n",
        "\n",
        "if first<=100 and first>=1 and second<=100 and second>=1:\n",
        "  for i in range(1,second+1):\n",
        "    total=first*i;\n",
        "    print(first,'x', i, '=',total)\n",
        "else:\n",
        "  print(\"Please enter numbers between 1 to 100.\")"
      ],
      "execution_count": null,
      "outputs": [
        {
          "output_type": "stream",
          "text": [
            "Please enter an integer : 3\n",
            "Please enter another integer : 4\n",
            "3 x 1 = 3\n",
            "3 x 2 = 6\n",
            "3 x 3 = 9\n",
            "3 x 4 = 12\n"
          ],
          "name": "stdout"
        }
      ]
    },
    {
      "cell_type": "markdown",
      "metadata": {
        "id": "SbnbPUPTlLD9"
      },
      "source": [
        "##### Q8. Write a program to ask the user to enter a password. Then check to see if it is a valid password based on these requirements -\n",
        "\n",
        "Must be at least 8 characters long\n",
        "\n",
        "Must contain both uppercase and lowercase letters\n",
        "\n",
        "Must contain at least one number between 0-9\n",
        "\n",
        "Must contain a special character -!,@,#,$\n",
        "\n",
        "If the password is not valid, ask the user to re-enter. This should continue until the user enters a valid password. After a valid password is entered, print Access Granted!\n",
        "\n",
        "```\n",
        "Please enter a password. Follow these requirements - \n",
        "a. Must be at least 8 characters long\n",
        "b. Must contain both uppercase and lowercase letters\n",
        "c. Must contain at least one number between 0-9\n",
        "d. Must contain a special character -!,@,#,$\n",
        "Password: HelloWorld1\n",
        "Invalid password. Try again!\n",
        "Password: Hello@World1\n",
        "Access Granted!\n",
        "```\n"
      ]
    },
    {
      "cell_type": "code",
      "metadata": {
        "id": "OXmZ177Rl-RV",
        "colab": {
          "base_uri": "https://localhost:8080/"
        },
        "outputId": "9730550a-b171-4cd2-b4ca-fd4245935f3b"
      },
      "source": [
        "# Type solution here\n",
        "while(True):\n",
        "  password = input(\"Please enter a password. Follow these requirements - \\n a. Must be at least 8 characters long \\n b. Must contain both uppercase and lowercase letters \\n c. Must contain at least one number between 0-9 \\n d. Must contain a special character -!,@,#,$ \")\n",
        "  if(len(password)<8):\n",
        "    print(\"Invalid Password. Try again.\")\n",
        "  elif not any(p.isupper() for p in password): \n",
        "    print(\"Invalid Password. Try again.\")\n",
        "  elif not any(p.islower() for p in password): \n",
        "    print(\"Invalid Password. Try again.\")\n",
        "  elif not any(p.isdigit() for p in password): \n",
        "    print(\"Invalid Password. Try again.\")\n",
        "  elif not any(not p.isalnum() for p in password): \n",
        "    print(\"Invalid Password. Try again.\")\n",
        "  else:\n",
        "    print(\"Access granted!\")\n",
        "  break"
      ],
      "execution_count": null,
      "outputs": [
        {
          "output_type": "stream",
          "text": [
            "Please enter a password. Follow these requirements - \n",
            " a. Must be at least 8 characters long \n",
            " b. Must contain both uppercase and lowercase letters \n",
            " c. Must contain at least one number between 0-9 \n",
            " d. Must contain a special character -!,@,#,$ Thefnivn1!\n",
            "Access granted!\n"
          ],
          "name": "stdout"
        }
      ]
    },
    {
      "cell_type": "markdown",
      "metadata": {
        "id": "-0sdutTDnTKA"
      },
      "source": [
        "##### Q9. Given the score sheet of participants in a competition, you are required to find the runner-up score. You are given scores in a list. Find the score of the runner-up.\n",
        "\n",
        "```\n",
        "list1 - [2, 3, 6, 6, 5]\n",
        "runner_up - 5\n",
        "\n",
        "list2 - [1, 7, 5, 3, 10, 4, 5, 5, 6, 11]\n",
        "runner_up - 10\n",
        "```"
      ]
    },
    {
      "cell_type": "code",
      "metadata": {
        "id": "12YP9OaqpGRK",
        "colab": {
          "base_uri": "https://localhost:8080/"
        },
        "outputId": "dceb0b87-1184-48ff-9843-aefc62805d94"
      },
      "source": [
        "# Type solution here\n",
        "list1 = [\"2\",\"3\",\"5\",\"6\",\"6\"]\n",
        "list2 = [\"1\",\"3\",\"4\",\"5\",\"5\",\"5\",\"6\",\"7\",\"10\",\"11\"]\n",
        "\n",
        "print(list1)\n",
        "\n",
        "first1 = max(list1)\n",
        "while first1 in list1:\n",
        " list1.remove(first1)\n",
        "print(max(list1))\n",
        "\n",
        "print(list2)\n",
        "\n",
        "first2 = max(list2)\n",
        "while first2 in list2:\n",
        " list2.remove(first2)\n",
        "print(max(list2))\n"
      ],
      "execution_count": null,
      "outputs": [
        {
          "output_type": "stream",
          "text": [
            "['2', '3', '5', '6', '6']\n",
            "5\n",
            "['1', '3', '4', '5', '5', '5', '6', '7', '10', '11']\n",
            "6\n"
          ],
          "name": "stdout"
        }
      ]
    },
    {
      "cell_type": "code",
      "metadata": {
        "id": "lDUvC-jahjts"
      },
      "source": [
        ""
      ],
      "execution_count": null,
      "outputs": []
    }
  ]
}